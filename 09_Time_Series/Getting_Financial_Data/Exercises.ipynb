{
 "cells": [
  {
   "cell_type": "markdown",
   "metadata": {},
   "source": [
    "# Getting Financial Data - Google Finance"
   ]
  },
  {
   "cell_type": "markdown",
   "metadata": {},
   "source": [
    "### Introduction:\n",
    "\n",
    "This time you will get data from a website.\n",
    "\n",
    "\n",
    "### Step 1. Import the necessary libraries"
   ]
  },
  {
   "cell_type": "code",
   "execution_count": 1,
   "metadata": {},
   "outputs": [],
   "source": [
    "import pandas as pd\n",
    "pd.core.common.is_list_like = pd.api.types.is_list_like\n",
    "import datetime as dt\n",
    "\n",
    "from pandas_datareader import data\n",
    "import fix_yahoo_finance as yf\n",
    "yf.pdr_override() "
   ]
  },
  {
   "cell_type": "markdown",
   "metadata": {},
   "source": [
    "### Step 2. Create your time range (start and end variables). The start date should be 01/01/2015 and the end should today (whatever your today is)"
   ]
  },
  {
   "cell_type": "code",
   "execution_count": 2,
   "metadata": {},
   "outputs": [
    {
     "name": "stdout",
     "output_type": "stream",
     "text": [
      "2015-01-01 00:00:00\n",
      "2018-07-26 15:10:43.797203\n"
     ]
    }
   ],
   "source": [
    "start = dt.datetime(2015, 1, 1)\n",
    "end = dt.datetime.today()\n",
    "print (start)\n",
    "print (end)"
   ]
  },
  {
   "cell_type": "markdown",
   "metadata": {},
   "source": [
    "### Step 3. Select the Apple, Tesla, Twitter, IBM, LinkedIn stocks symbols and assign them to a variable called stocks"
   ]
  },
  {
   "cell_type": "code",
   "execution_count": 3,
   "metadata": {},
   "outputs": [],
   "source": [
    "stocks = ['AAPL', 'TSLA', 'IBM', 'LNKD']"
   ]
  },
  {
   "cell_type": "markdown",
   "metadata": {},
   "source": [
    "### Step 4. Read the data from google, assign to df and print it"
   ]
  },
  {
   "cell_type": "code",
   "execution_count": 4,
   "metadata": {},
   "outputs": [
    {
     "name": "stdout",
     "output_type": "stream",
     "text": [
      "[*********************100%***********************]  4 of 4 downloaded\n"
     ]
    },
    {
     "data": {
      "text/html": [
       "<div>\n",
       "<style scoped>\n",
       "    .dataframe tbody tr th:only-of-type {\n",
       "        vertical-align: middle;\n",
       "    }\n",
       "\n",
       "    .dataframe tbody tr th {\n",
       "        vertical-align: top;\n",
       "    }\n",
       "\n",
       "    .dataframe thead tr th {\n",
       "        text-align: left;\n",
       "    }\n",
       "\n",
       "    .dataframe thead tr:last-of-type th {\n",
       "        text-align: right;\n",
       "    }\n",
       "</style>\n",
       "<table border=\"1\" class=\"dataframe\">\n",
       "  <thead>\n",
       "    <tr>\n",
       "      <th></th>\n",
       "      <th colspan=\"3\" halign=\"left\">Open</th>\n",
       "      <th colspan=\"3\" halign=\"left\">High</th>\n",
       "      <th colspan=\"3\" halign=\"left\">Low</th>\n",
       "      <th colspan=\"3\" halign=\"left\">Close</th>\n",
       "      <th colspan=\"3\" halign=\"left\">Adj Close</th>\n",
       "      <th colspan=\"3\" halign=\"left\">Volume</th>\n",
       "    </tr>\n",
       "    <tr>\n",
       "      <th></th>\n",
       "      <th>AAPL</th>\n",
       "      <th>IBM</th>\n",
       "      <th>TSLA</th>\n",
       "      <th>AAPL</th>\n",
       "      <th>IBM</th>\n",
       "      <th>TSLA</th>\n",
       "      <th>AAPL</th>\n",
       "      <th>IBM</th>\n",
       "      <th>TSLA</th>\n",
       "      <th>AAPL</th>\n",
       "      <th>IBM</th>\n",
       "      <th>TSLA</th>\n",
       "      <th>AAPL</th>\n",
       "      <th>IBM</th>\n",
       "      <th>TSLA</th>\n",
       "      <th>AAPL</th>\n",
       "      <th>IBM</th>\n",
       "      <th>TSLA</th>\n",
       "    </tr>\n",
       "    <tr>\n",
       "      <th>Date</th>\n",
       "      <th></th>\n",
       "      <th></th>\n",
       "      <th></th>\n",
       "      <th></th>\n",
       "      <th></th>\n",
       "      <th></th>\n",
       "      <th></th>\n",
       "      <th></th>\n",
       "      <th></th>\n",
       "      <th></th>\n",
       "      <th></th>\n",
       "      <th></th>\n",
       "      <th></th>\n",
       "      <th></th>\n",
       "      <th></th>\n",
       "      <th></th>\n",
       "      <th></th>\n",
       "      <th></th>\n",
       "    </tr>\n",
       "  </thead>\n",
       "  <tbody>\n",
       "    <tr>\n",
       "      <th>2015-01-02</th>\n",
       "      <td>111.389999</td>\n",
       "      <td>161.309998</td>\n",
       "      <td>222.869995</td>\n",
       "      <td>111.440002</td>\n",
       "      <td>163.309998</td>\n",
       "      <td>223.250000</td>\n",
       "      <td>107.349998</td>\n",
       "      <td>161.000000</td>\n",
       "      <td>213.259995</td>\n",
       "      <td>109.330002</td>\n",
       "      <td>162.059998</td>\n",
       "      <td>219.309998</td>\n",
       "      <td>102.678230</td>\n",
       "      <td>140.094986</td>\n",
       "      <td>219.309998</td>\n",
       "      <td>53204600</td>\n",
       "      <td>5525500</td>\n",
       "      <td>4764400</td>\n",
       "    </tr>\n",
       "    <tr>\n",
       "      <th>2015-01-05</th>\n",
       "      <td>108.290001</td>\n",
       "      <td>161.270004</td>\n",
       "      <td>214.550003</td>\n",
       "      <td>108.650002</td>\n",
       "      <td>161.270004</td>\n",
       "      <td>216.500000</td>\n",
       "      <td>105.410004</td>\n",
       "      <td>159.190002</td>\n",
       "      <td>207.160004</td>\n",
       "      <td>106.250000</td>\n",
       "      <td>159.509995</td>\n",
       "      <td>210.089996</td>\n",
       "      <td>99.785629</td>\n",
       "      <td>137.890594</td>\n",
       "      <td>210.089996</td>\n",
       "      <td>64285500</td>\n",
       "      <td>4880400</td>\n",
       "      <td>5368500</td>\n",
       "    </tr>\n",
       "    <tr>\n",
       "      <th>2015-01-06</th>\n",
       "      <td>106.540001</td>\n",
       "      <td>159.669998</td>\n",
       "      <td>210.059998</td>\n",
       "      <td>107.430000</td>\n",
       "      <td>159.960007</td>\n",
       "      <td>214.199997</td>\n",
       "      <td>104.629997</td>\n",
       "      <td>155.169998</td>\n",
       "      <td>204.210007</td>\n",
       "      <td>106.260002</td>\n",
       "      <td>156.070007</td>\n",
       "      <td>211.279999</td>\n",
       "      <td>99.795021</td>\n",
       "      <td>134.916855</td>\n",
       "      <td>211.279999</td>\n",
       "      <td>65797100</td>\n",
       "      <td>6146700</td>\n",
       "      <td>6261900</td>\n",
       "    </tr>\n",
       "    <tr>\n",
       "      <th>2015-01-07</th>\n",
       "      <td>107.199997</td>\n",
       "      <td>157.199997</td>\n",
       "      <td>213.350006</td>\n",
       "      <td>108.199997</td>\n",
       "      <td>157.199997</td>\n",
       "      <td>214.779999</td>\n",
       "      <td>106.699997</td>\n",
       "      <td>154.029999</td>\n",
       "      <td>209.779999</td>\n",
       "      <td>107.750000</td>\n",
       "      <td>155.050003</td>\n",
       "      <td>210.949997</td>\n",
       "      <td>101.194359</td>\n",
       "      <td>134.035095</td>\n",
       "      <td>210.949997</td>\n",
       "      <td>40105900</td>\n",
       "      <td>4701800</td>\n",
       "      <td>2968400</td>\n",
       "    </tr>\n",
       "    <tr>\n",
       "      <th>2015-01-08</th>\n",
       "      <td>109.230003</td>\n",
       "      <td>156.240005</td>\n",
       "      <td>212.809998</td>\n",
       "      <td>112.150002</td>\n",
       "      <td>159.039993</td>\n",
       "      <td>213.800003</td>\n",
       "      <td>108.699997</td>\n",
       "      <td>155.550003</td>\n",
       "      <td>210.009995</td>\n",
       "      <td>111.889999</td>\n",
       "      <td>158.419998</td>\n",
       "      <td>210.619995</td>\n",
       "      <td>105.082497</td>\n",
       "      <td>136.948334</td>\n",
       "      <td>210.619995</td>\n",
       "      <td>59364500</td>\n",
       "      <td>4236800</td>\n",
       "      <td>3442500</td>\n",
       "    </tr>\n",
       "  </tbody>\n",
       "</table>\n",
       "</div>"
      ],
      "text/plain": [
       "                  Open                                High              \\\n",
       "                  AAPL         IBM        TSLA        AAPL         IBM   \n",
       "Date                                                                     \n",
       "2015-01-02  111.389999  161.309998  222.869995  111.440002  163.309998   \n",
       "2015-01-05  108.290001  161.270004  214.550003  108.650002  161.270004   \n",
       "2015-01-06  106.540001  159.669998  210.059998  107.430000  159.960007   \n",
       "2015-01-07  107.199997  157.199997  213.350006  108.199997  157.199997   \n",
       "2015-01-08  109.230003  156.240005  212.809998  112.150002  159.039993   \n",
       "\n",
       "                               Low                               Close  \\\n",
       "                  TSLA        AAPL         IBM        TSLA        AAPL   \n",
       "Date                                                                     \n",
       "2015-01-02  223.250000  107.349998  161.000000  213.259995  109.330002   \n",
       "2015-01-05  216.500000  105.410004  159.190002  207.160004  106.250000   \n",
       "2015-01-06  214.199997  104.629997  155.169998  204.210007  106.260002   \n",
       "2015-01-07  214.779999  106.699997  154.029999  209.779999  107.750000   \n",
       "2015-01-08  213.800003  108.699997  155.550003  210.009995  111.889999   \n",
       "\n",
       "                                     Adj Close                          \\\n",
       "                   IBM        TSLA        AAPL         IBM        TSLA   \n",
       "Date                                                                     \n",
       "2015-01-02  162.059998  219.309998  102.678230  140.094986  219.309998   \n",
       "2015-01-05  159.509995  210.089996   99.785629  137.890594  210.089996   \n",
       "2015-01-06  156.070007  211.279999   99.795021  134.916855  211.279999   \n",
       "2015-01-07  155.050003  210.949997  101.194359  134.035095  210.949997   \n",
       "2015-01-08  158.419998  210.619995  105.082497  136.948334  210.619995   \n",
       "\n",
       "              Volume                    \n",
       "                AAPL      IBM     TSLA  \n",
       "Date                                    \n",
       "2015-01-02  53204600  5525500  4764400  \n",
       "2015-01-05  64285500  4880400  5368500  \n",
       "2015-01-06  65797100  6146700  6261900  \n",
       "2015-01-07  40105900  4701800  2968400  \n",
       "2015-01-08  59364500  4236800  3442500  "
      ]
     },
     "execution_count": 4,
     "metadata": {},
     "output_type": "execute_result"
    }
   ],
   "source": [
    "df = data.get_data_yahoo(stocks, start, end)\n",
    "df.head()"
   ]
  },
  {
   "cell_type": "markdown",
   "metadata": {},
   "source": [
    "### Step 5.  What is the type of structure of df ?"
   ]
  },
  {
   "cell_type": "code",
   "execution_count": 5,
   "metadata": {},
   "outputs": [
    {
     "data": {
      "text/plain": [
       "pandas.core.frame.DataFrame"
      ]
     },
     "execution_count": 5,
     "metadata": {},
     "output_type": "execute_result"
    }
   ],
   "source": [
    "type(df)"
   ]
  },
  {
   "cell_type": "markdown",
   "metadata": {},
   "source": [
    "### Step 6. Print all the Items axis values\n",
    "#### To learn more about the Panel structure go to [documentation](http://pandas.pydata.org/pandas-docs/stable/dsintro.html#panel) "
   ]
  },
  {
   "cell_type": "code",
   "execution_count": 6,
   "metadata": {},
   "outputs": [
    {
     "data": {
      "text/plain": [
       "[DatetimeIndex(['2015-01-02', '2015-01-05', '2015-01-06', '2015-01-07',\n",
       "                '2015-01-08', '2015-01-09', '2015-01-12', '2015-01-13',\n",
       "                '2015-01-14', '2015-01-15',\n",
       "                ...\n",
       "                '2018-07-13', '2018-07-16', '2018-07-17', '2018-07-18',\n",
       "                '2018-07-19', '2018-07-20', '2018-07-23', '2018-07-24',\n",
       "                '2018-07-25', '2018-07-26'],\n",
       "               dtype='datetime64[ns]', name='Date', length=898, freq=None),\n",
       " MultiIndex(levels=[['Adj Close', 'Close', 'High', 'Low', 'Open', 'Volume'], ['AAPL', 'IBM', 'LNKD', 'TSLA']],\n",
       "            labels=[[4, 4, 4, 2, 2, 2, 3, 3, 3, 1, 1, 1, 0, 0, 0, 5, 5, 5], [0, 1, 3, 0, 1, 3, 0, 1, 3, 0, 1, 3, 0, 1, 3, 0, 1, 3]])]"
      ]
     },
     "execution_count": 6,
     "metadata": {},
     "output_type": "execute_result"
    }
   ],
   "source": [
    "df.axes"
   ]
  },
  {
   "cell_type": "markdown",
   "metadata": {},
   "source": [
    "### Step 7. Good, now we know  the data avaiable. Create a dataFrame called vol, with the Volume values."
   ]
  },
  {
   "cell_type": "code",
   "execution_count": 7,
   "metadata": {},
   "outputs": [
    {
     "data": {
      "text/html": [
       "<div>\n",
       "<style scoped>\n",
       "    .dataframe tbody tr th:only-of-type {\n",
       "        vertical-align: middle;\n",
       "    }\n",
       "\n",
       "    .dataframe tbody tr th {\n",
       "        vertical-align: top;\n",
       "    }\n",
       "\n",
       "    .dataframe thead th {\n",
       "        text-align: right;\n",
       "    }\n",
       "</style>\n",
       "<table border=\"1\" class=\"dataframe\">\n",
       "  <thead>\n",
       "    <tr style=\"text-align: right;\">\n",
       "      <th></th>\n",
       "      <th>AAPL</th>\n",
       "      <th>IBM</th>\n",
       "      <th>TSLA</th>\n",
       "    </tr>\n",
       "    <tr>\n",
       "      <th>Date</th>\n",
       "      <th></th>\n",
       "      <th></th>\n",
       "      <th></th>\n",
       "    </tr>\n",
       "  </thead>\n",
       "  <tbody>\n",
       "    <tr>\n",
       "      <th>2015-01-02</th>\n",
       "      <td>53204600</td>\n",
       "      <td>5525500</td>\n",
       "      <td>4764400</td>\n",
       "    </tr>\n",
       "    <tr>\n",
       "      <th>2015-01-05</th>\n",
       "      <td>64285500</td>\n",
       "      <td>4880400</td>\n",
       "      <td>5368500</td>\n",
       "    </tr>\n",
       "    <tr>\n",
       "      <th>2015-01-06</th>\n",
       "      <td>65797100</td>\n",
       "      <td>6146700</td>\n",
       "      <td>6261900</td>\n",
       "    </tr>\n",
       "    <tr>\n",
       "      <th>2015-01-07</th>\n",
       "      <td>40105900</td>\n",
       "      <td>4701800</td>\n",
       "      <td>2968400</td>\n",
       "    </tr>\n",
       "    <tr>\n",
       "      <th>2015-01-08</th>\n",
       "      <td>59364500</td>\n",
       "      <td>4236800</td>\n",
       "      <td>3442500</td>\n",
       "    </tr>\n",
       "  </tbody>\n",
       "</table>\n",
       "</div>"
      ],
      "text/plain": [
       "                AAPL      IBM     TSLA\n",
       "Date                                  \n",
       "2015-01-02  53204600  5525500  4764400\n",
       "2015-01-05  64285500  4880400  5368500\n",
       "2015-01-06  65797100  6146700  6261900\n",
       "2015-01-07  40105900  4701800  2968400\n",
       "2015-01-08  59364500  4236800  3442500"
      ]
     },
     "execution_count": 7,
     "metadata": {},
     "output_type": "execute_result"
    }
   ],
   "source": [
    "vol = df['Volume']\n",
    "vol.head()"
   ]
  },
  {
   "cell_type": "markdown",
   "metadata": {},
   "source": [
    "### Step 8. Aggregate the data of Volume to weekly\n",
    "#### Hint: Be careful to not sum data from the same week of 2015 and other years."
   ]
  },
  {
   "cell_type": "code",
   "execution_count": 8,
   "metadata": {
    "scrolled": true
   },
   "outputs": [
    {
     "name": "stderr",
     "output_type": "stream",
     "text": [
      "/Users/amitrajan/Desktop/PythonVirtualEnv/Python3_VirtualEnv/lib/python3.6/site-packages/ipykernel_launcher.py:1: SettingWithCopyWarning: \n",
      "A value is trying to be set on a copy of a slice from a DataFrame.\n",
      "Try using .loc[row_indexer,col_indexer] = value instead\n",
      "\n",
      "See the caveats in the documentation: http://pandas.pydata.org/pandas-docs/stable/indexing.html#indexing-view-versus-copy\n",
      "  \"\"\"Entry point for launching an IPython kernel.\n",
      "/Users/amitrajan/Desktop/PythonVirtualEnv/Python3_VirtualEnv/lib/python3.6/site-packages/ipykernel_launcher.py:2: SettingWithCopyWarning: \n",
      "A value is trying to be set on a copy of a slice from a DataFrame.\n",
      "Try using .loc[row_indexer,col_indexer] = value instead\n",
      "\n",
      "See the caveats in the documentation: http://pandas.pydata.org/pandas-docs/stable/indexing.html#indexing-view-versus-copy\n",
      "  \n"
     ]
    },
    {
     "data": {
      "text/html": [
       "<div>\n",
       "<style scoped>\n",
       "    .dataframe tbody tr th:only-of-type {\n",
       "        vertical-align: middle;\n",
       "    }\n",
       "\n",
       "    .dataframe tbody tr th {\n",
       "        vertical-align: top;\n",
       "    }\n",
       "\n",
       "    .dataframe thead th {\n",
       "        text-align: right;\n",
       "    }\n",
       "</style>\n",
       "<table border=\"1\" class=\"dataframe\">\n",
       "  <thead>\n",
       "    <tr style=\"text-align: right;\">\n",
       "      <th></th>\n",
       "      <th></th>\n",
       "      <th>AAPL</th>\n",
       "      <th>IBM</th>\n",
       "      <th>TSLA</th>\n",
       "    </tr>\n",
       "    <tr>\n",
       "      <th>week</th>\n",
       "      <th>year</th>\n",
       "      <th></th>\n",
       "      <th></th>\n",
       "      <th></th>\n",
       "    </tr>\n",
       "  </thead>\n",
       "  <tbody>\n",
       "    <tr>\n",
       "      <th rowspan=\"4\" valign=\"top\">1</th>\n",
       "      <th>2015</th>\n",
       "      <td>53204600</td>\n",
       "      <td>5525500</td>\n",
       "      <td>4764400</td>\n",
       "    </tr>\n",
       "    <tr>\n",
       "      <th>2016</th>\n",
       "      <td>343790200</td>\n",
       "      <td>25253600</td>\n",
       "      <td>20975400</td>\n",
       "    </tr>\n",
       "    <tr>\n",
       "      <th>2017</th>\n",
       "      <td>103845500</td>\n",
       "      <td>11943500</td>\n",
       "      <td>28576400</td>\n",
       "    </tr>\n",
       "    <tr>\n",
       "      <th>2018</th>\n",
       "      <td>101168400</td>\n",
       "      <td>26396100</td>\n",
       "      <td>23411200</td>\n",
       "    </tr>\n",
       "    <tr>\n",
       "      <th>2</th>\n",
       "      <th>2015</th>\n",
       "      <td>283252500</td>\n",
       "      <td>24450500</td>\n",
       "      <td>22632600</td>\n",
       "    </tr>\n",
       "  </tbody>\n",
       "</table>\n",
       "</div>"
      ],
      "text/plain": [
       "                AAPL       IBM      TSLA\n",
       "week year                               \n",
       "1    2015   53204600   5525500   4764400\n",
       "     2016  343790200  25253600  20975400\n",
       "     2017  103845500  11943500  28576400\n",
       "     2018  101168400  26396100  23411200\n",
       "2    2015  283252500  24450500  22632600"
      ]
     },
     "execution_count": 8,
     "metadata": {},
     "output_type": "execute_result"
    }
   ],
   "source": [
    "vol['week'] = vol.index.week\n",
    "vol['year'] = vol.index.year\n",
    "\n",
    "week = vol.groupby(['week','year']).sum()\n",
    "week.head()"
   ]
  },
  {
   "cell_type": "markdown",
   "metadata": {},
   "source": [
    "### Step 9. Find all the volume traded in the year of 2015"
   ]
  },
  {
   "cell_type": "code",
   "execution_count": 9,
   "metadata": {},
   "outputs": [
    {
     "name": "stderr",
     "output_type": "stream",
     "text": [
      "/Users/amitrajan/Desktop/PythonVirtualEnv/Python3_VirtualEnv/lib/python3.6/site-packages/ipykernel_launcher.py:2: SettingWithCopyWarning: \n",
      "A value is trying to be set on a copy of a slice from a DataFrame.\n",
      "Try using .loc[row_indexer,col_indexer] = value instead\n",
      "\n",
      "See the caveats in the documentation: http://pandas.pydata.org/pandas-docs/stable/indexing.html#indexing-view-versus-copy\n",
      "  \n"
     ]
    },
    {
     "data": {
      "text/html": [
       "<div>\n",
       "<style scoped>\n",
       "    .dataframe tbody tr th:only-of-type {\n",
       "        vertical-align: middle;\n",
       "    }\n",
       "\n",
       "    .dataframe tbody tr th {\n",
       "        vertical-align: top;\n",
       "    }\n",
       "\n",
       "    .dataframe thead th {\n",
       "        text-align: right;\n",
       "    }\n",
       "</style>\n",
       "<table border=\"1\" class=\"dataframe\">\n",
       "  <thead>\n",
       "    <tr style=\"text-align: right;\">\n",
       "      <th></th>\n",
       "      <th>AAPL</th>\n",
       "      <th>IBM</th>\n",
       "      <th>TSLA</th>\n",
       "    </tr>\n",
       "    <tr>\n",
       "      <th>year</th>\n",
       "      <th></th>\n",
       "      <th></th>\n",
       "      <th></th>\n",
       "    </tr>\n",
       "  </thead>\n",
       "  <tbody>\n",
       "    <tr>\n",
       "      <th>2015</th>\n",
       "      <td>13063147500</td>\n",
       "      <td>1103814000</td>\n",
       "      <td>1087621300</td>\n",
       "    </tr>\n",
       "    <tr>\n",
       "      <th>2016</th>\n",
       "      <td>9680553200</td>\n",
       "      <td>1016270100</td>\n",
       "      <td>1161482600</td>\n",
       "    </tr>\n",
       "    <tr>\n",
       "      <th>2017</th>\n",
       "      <td>6810035600</td>\n",
       "      <td>1070962100</td>\n",
       "      <td>1589877200</td>\n",
       "    </tr>\n",
       "    <tr>\n",
       "      <th>2018</th>\n",
       "      <td>4416313654</td>\n",
       "      <td>723478730</td>\n",
       "      <td>1103760171</td>\n",
       "    </tr>\n",
       "  </tbody>\n",
       "</table>\n",
       "</div>"
      ],
      "text/plain": [
       "             AAPL         IBM        TSLA\n",
       "year                                     \n",
       "2015  13063147500  1103814000  1087621300\n",
       "2016   9680553200  1016270100  1161482600\n",
       "2017   6810035600  1070962100  1589877200\n",
       "2018   4416313654   723478730  1103760171"
      ]
     },
     "execution_count": 9,
     "metadata": {},
     "output_type": "execute_result"
    }
   ],
   "source": [
    "del vol['week']\n",
    "vol['year'] = vol.index.year\n",
    "\n",
    "year = vol.groupby('year').sum()\n",
    "year"
   ]
  }
 ],
 "metadata": {
  "kernelspec": {
   "display_name": "Python 3",
   "language": "python",
   "name": "python3"
  },
  "language_info": {
   "codemirror_mode": {
    "name": "ipython",
    "version": 3
   },
   "file_extension": ".py",
   "mimetype": "text/x-python",
   "name": "python",
   "nbconvert_exporter": "python",
   "pygments_lexer": "ipython3",
   "version": "3.6.4"
  }
 },
 "nbformat": 4,
 "nbformat_minor": 1
}
